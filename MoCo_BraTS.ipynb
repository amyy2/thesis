{
  "nbformat": 4,
  "nbformat_minor": 0,
  "metadata": {
    "colab": {
      "provenance": [],
      "machine_shape": "hm",
      "gpuType": "T4",
      "authorship_tag": "ABX9TyNristgADx2PV31nf5g5QVv",
      "include_colab_link": true
    },
    "kernelspec": {
      "name": "python3",
      "display_name": "Python 3"
    },
    "language_info": {
      "name": "python"
    },
    "accelerator": "GPU"
  },
  "cells": [
    {
      "cell_type": "markdown",
      "metadata": {
        "id": "view-in-github",
        "colab_type": "text"
      },
      "source": [
        "<a href=\"https://colab.research.google.com/github/amyy2/thesis/blob/main/MoCo_BraTS.ipynb\" target=\"_parent\"><img src=\"https://colab.research.google.com/assets/colab-badge.svg\" alt=\"Open In Colab\"/></a>"
      ]
    },
    {
      "cell_type": "markdown",
      "source": [
        "# Setup"
      ],
      "metadata": {
        "id": "B0RVk9TvJv8L"
      }
    },
    {
      "cell_type": "code",
      "execution_count": null,
      "metadata": {
        "colab": {
          "base_uri": "https://localhost:8080/"
        },
        "id": "gwQOtkxq1kp7",
        "outputId": "1ddc15d8-ad7f-4fc8-e178-14b9cc202a0b"
      },
      "outputs": [
        {
          "output_type": "stream",
          "name": "stdout",
          "text": [
            "Requirement already satisfied: torch in /usr/local/lib/python3.10/dist-packages (2.1.0+cu118)\n",
            "Requirement already satisfied: torchvision in /usr/local/lib/python3.10/dist-packages (0.16.0+cu118)\n",
            "Requirement already satisfied: filelock in /usr/local/lib/python3.10/dist-packages (from torch) (3.13.1)\n",
            "Requirement already satisfied: typing-extensions in /usr/local/lib/python3.10/dist-packages (from torch) (4.5.0)\n",
            "Requirement already satisfied: sympy in /usr/local/lib/python3.10/dist-packages (from torch) (1.12)\n",
            "Requirement already satisfied: networkx in /usr/local/lib/python3.10/dist-packages (from torch) (3.2.1)\n",
            "Requirement already satisfied: jinja2 in /usr/local/lib/python3.10/dist-packages (from torch) (3.1.2)\n",
            "Requirement already satisfied: fsspec in /usr/local/lib/python3.10/dist-packages (from torch) (2023.6.0)\n",
            "Requirement already satisfied: triton==2.1.0 in /usr/local/lib/python3.10/dist-packages (from torch) (2.1.0)\n",
            "Requirement already satisfied: numpy in /usr/local/lib/python3.10/dist-packages (from torchvision) (1.23.5)\n",
            "Requirement already satisfied: requests in /usr/local/lib/python3.10/dist-packages (from torchvision) (2.31.0)\n",
            "Requirement already satisfied: pillow!=8.3.*,>=5.3.0 in /usr/local/lib/python3.10/dist-packages (from torchvision) (9.4.0)\n",
            "Requirement already satisfied: MarkupSafe>=2.0 in /usr/local/lib/python3.10/dist-packages (from jinja2->torch) (2.1.3)\n",
            "Requirement already satisfied: charset-normalizer<4,>=2 in /usr/local/lib/python3.10/dist-packages (from requests->torchvision) (3.3.2)\n",
            "Requirement already satisfied: idna<4,>=2.5 in /usr/local/lib/python3.10/dist-packages (from requests->torchvision) (3.4)\n",
            "Requirement already satisfied: urllib3<3,>=1.21.1 in /usr/local/lib/python3.10/dist-packages (from requests->torchvision) (2.0.7)\n",
            "Requirement already satisfied: certifi>=2017.4.17 in /usr/local/lib/python3.10/dist-packages (from requests->torchvision) (2023.7.22)\n",
            "Requirement already satisfied: mpmath>=0.19 in /usr/local/lib/python3.10/dist-packages (from sympy->torch) (1.3.0)\n"
          ]
        }
      ],
      "source": [
        "!pip install torch torchvision"
      ]
    },
    {
      "cell_type": "code",
      "source": [
        "import numpy as np\n",
        "import torch\n",
        "import torchvision\n",
        "import torchvision.models as models\n",
        "from torchvision import transforms\n",
        "import torch.nn as nn\n",
        "import torch.nn.functional as F\n",
        "from torch.utils.data import Dataset\n",
        "import os\n",
        "import matplotlib.pyplot as plt\n",
        "import nibabel as nib\n",
        "import torch.optim as optim\n",
        "from torch.utils.data import DataLoader, random_split\n",
        "from tqdm import tqdm\n",
        "import matplotlib.pyplot as plt"
      ],
      "metadata": {
        "id": "EJqx5iot1woR"
      },
      "execution_count": null,
      "outputs": []
    },
    {
      "cell_type": "code",
      "source": [
        "from google.colab import drive\n",
        "drive.mount('/content/drive')\n",
        "dataset_path = '/content/drive/MyDrive/archive'"
      ],
      "metadata": {
        "colab": {
          "base_uri": "https://localhost:8080/"
        },
        "id": "0DNWSR1r1tlK",
        "outputId": "7e8492f7-214e-4e8e-bcbf-6a806aa7ff18"
      },
      "execution_count": null,
      "outputs": [
        {
          "output_type": "stream",
          "name": "stdout",
          "text": [
            "Mounted at /content/drive\n"
          ]
        }
      ]
    },
    {
      "cell_type": "code",
      "source": [
        "!git clone https://github.com/facebookresearch/moco.git\n",
        "%cd moco"
      ],
      "metadata": {
        "colab": {
          "base_uri": "https://localhost:8080/"
        },
        "id": "LeMy5FweKhbl",
        "outputId": "5b1ddcad-eaf4-40a9-f1ab-c70867d2b5f0"
      },
      "execution_count": null,
      "outputs": [
        {
          "output_type": "stream",
          "name": "stdout",
          "text": [
            "Cloning into 'moco'...\n",
            "remote: Enumerating objects: 108, done.\u001b[K\n",
            "remote: Counting objects: 100% (70/70), done.\u001b[K\n",
            "remote: Compressing objects: 100% (39/39), done.\u001b[K\n",
            "remote: Total 108 (delta 38), reused 60 (delta 31), pack-reused 38\u001b[K\n",
            "Receiving objects: 100% (108/108), 65.39 KiB | 4.09 MiB/s, done.\n",
            "Resolving deltas: 100% (48/48), done.\n",
            "/content/moco\n"
          ]
        }
      ]
    },
    {
      "cell_type": "markdown",
      "source": [
        "# Data preprocessing"
      ],
      "metadata": {
        "id": "HhDbqxa2J4mP"
      }
    },
    {
      "cell_type": "code",
      "source": [
        "class BraTSDataset(Dataset):\n",
        "    def __init__(self, path, transform=None):\n",
        "        self.path = path\n",
        "        self.transform = transform\n",
        "\n",
        "    def __len__(self):\n",
        "        return len(os.listdir(self.path))\n",
        "\n",
        "    def __getitem__(self, index):\n",
        "        folder = os.listdir(self.path)[index]\n",
        "        folder_path = self.path + '/' + folder + '/' + folder\n",
        "        image = nib.load(folder_path + '_flair.nii').get_fdata()[50:210, 50:210, 77]\n",
        "        mask = nib.load(folder_path + '_seg.nii').get_fdata()[50:210, 50:210, 77]\n",
        "\n",
        "        image = (image - np.min(image)) / (np.max(image) - np.min(image))\n",
        "        image = image.astype(np.float32)\n",
        "\n",
        "        if self.transform:\n",
        "          transform_1 = self.transform(image)\n",
        "          transform_2 = self.transform(image)\n",
        "\n",
        "          return image, transform_1, transform_2, mask\n",
        "\n",
        "        else:\n",
        "          return image, mask"
      ],
      "metadata": {
        "id": "ZY2CZQj6NjHm"
      },
      "execution_count": null,
      "outputs": []
    },
    {
      "cell_type": "code",
      "source": [
        "def calculate_mean_std(dataset):\n",
        "    means = []\n",
        "    stds = []\n",
        "\n",
        "    for i in tqdm(range(len(dataset))):\n",
        "        image, _ = dataset[i]\n",
        "        image = image.astype(np.float32)\n",
        "        means.append(np.mean(image))\n",
        "        stds.append(np.std(image))\n",
        "\n",
        "    mean = np.mean(means)\n",
        "    std = np.mean(stds)\n",
        "    return mean, std\n",
        "\n",
        "dataset = BraTSDataset('/content/drive/MyDrive/archive/BraTS2020_TrainingData/MICCAI_BraTS2020_TrainingData')\n",
        "\n",
        "#mean, std = calculate_mean_std(dataset)\n",
        "mean = 0.2855491638183594\n",
        "std = 0.2328324317932129\n",
        "print(f'Mean: {mean}, Std: {std}')"
      ],
      "metadata": {
        "colab": {
          "base_uri": "https://localhost:8080/"
        },
        "id": "OZeHBVTmc7dC",
        "outputId": "644ef446-282a-4d59-c3ee-289f7e662aa1"
      },
      "execution_count": null,
      "outputs": [
        {
          "output_type": "stream",
          "name": "stdout",
          "text": [
            "Mean: 0.2855491638183594, Std: 0.2328324317932129\n"
          ]
        }
      ]
    },
    {
      "cell_type": "code",
      "source": [
        "simclr_transform = transforms.Compose([\n",
        "    transforms.ToPILImage(),\n",
        "    transforms.RandomApply([transforms.RandomRotation(degrees=(180, 360))]),\n",
        "    #transforms.RandomApply([transforms.RandomResizedCrop(size=(160, 160), scale=(0.8, 1.0), ratio=(1.0, 1.0))], p=0.25),\n",
        "    transforms.RandomApply([transforms.RandomHorizontalFlip()]),\n",
        "    transforms.RandomApply([transforms.RandomVerticalFlip()]),\n",
        "    transforms.ToTensor(),\n",
        "    transforms.Normalize(mean=mean, std=std),\n",
        "])"
      ],
      "metadata": {
        "id": "SFMLlj5ncoIn"
      },
      "execution_count": null,
      "outputs": []
    },
    {
      "cell_type": "code",
      "source": [
        "dataset = BraTSDataset('/content/drive/MyDrive/archive/BraTS2020_TrainingData/MICCAI_BraTS2020_TrainingData', transform=simclr_transform)\n",
        "image, t1, t2, mask = dataset[30]\n",
        "plt.subplot(1, 4, 1)\n",
        "plt.imshow(image)\n",
        "plt.subplot(1, 4, 2)\n",
        "plt.imshow(t1[0])\n",
        "plt.subplot(1, 4, 3)\n",
        "plt.imshow(t2[0])\n",
        "plt.subplot(1, 4, 4)\n",
        "plt.imshow(mask)\n",
        "plt.show()"
      ],
      "metadata": {
        "colab": {
          "base_uri": "https://localhost:8080/",
          "height": 173
        },
        "id": "iKEhrti0PqfI",
        "outputId": "c326bdb8-4480-4724-e415-2bd967de2991"
      },
      "execution_count": null,
      "outputs": [
        {
          "output_type": "display_data",
          "data": {
            "text/plain": [
              "<Figure size 640x480 with 4 Axes>"
            ],
            "image/png": "[encoded data removed]"
          },
          "metadata": {}
        }
      ]
    },
    {
      "cell_type": "markdown",
      "source": [
        "# Pretrained MoCo model"
      ],
      "metadata": {
        "id": "f_7D_T6RJ8QA"
      }
    },
    {
      "cell_type": "code",
      "source": [
        "# Copyright (c) Meta Platforms, Inc. and affiliates.\n",
        "\n",
        "# This source code is licensed under the MIT license found in the\n",
        "# LICENSE file in the root directory of this source tree.\n",
        "\n",
        "class MoCo(nn.Module):\n",
        "    \"\"\"\n",
        "    Build a MoCo model with: a query encoder, a key encoder, and a queue\n",
        "    https://arxiv.org/abs/1911.05722\n",
        "    \"\"\"\n",
        "\n",
        "    def __init__(self, base_encoder, dim=128, K=65536, m=0.999, T=0.07, mlp=False):\n",
        "        \"\"\"\n",
        "        dim: feature dimension (default: 128)\n",
        "        K: queue size; number of negative keys (default: 65536)\n",
        "        m: moco momentum of updating key encoder (default: 0.999)\n",
        "        T: softmax temperature (default: 0.07)\n",
        "        \"\"\"\n",
        "        super(MoCo, self).__init__()\n",
        "\n",
        "        self.K = K\n",
        "        self.m = m\n",
        "        self.T = T\n",
        "\n",
        "        # create the encoders\n",
        "        # num_classes is the output fc dimension\n",
        "        self.encoder_q = base_encoder()\n",
        "        self.encoder_k = base_encoder()\n",
        "\n",
        "        if mlp:\n",
        "            # Modify the fully connected layer\n",
        "            dim_mlp = self.encoder_q.fc[0].in_features  # Access the in_features of the first Linear layer\n",
        "            self.encoder_q.fc = nn.Sequential(\n",
        "                nn.Linear(dim_mlp, dim_mlp), nn.ReLU(),\n",
        "                nn.Linear(dim_mlp, dim)  # The last layer now outputs 'dim' features\n",
        "            )\n",
        "            self.encoder_k.fc = nn.Sequential(\n",
        "                nn.Linear(dim_mlp, dim_mlp), nn.ReLU(),\n",
        "                nn.Linear(dim_mlp, dim)  # Same modification for the key encoder\n",
        "            )\n",
        "\n",
        "        for param_q, param_k in zip(\n",
        "            self.encoder_q.parameters(), self.encoder_k.parameters()\n",
        "        ):\n",
        "            param_k.data.copy_(param_q.data)  # initialize\n",
        "            param_k.requires_grad = False  # not update by gradient\n",
        "\n",
        "        # create the queue\n",
        "        self.register_buffer(\"queue\", torch.randn(dim, K))\n",
        "        self.queue = nn.functional.normalize(self.queue, dim=0)\n",
        "\n",
        "        self.register_buffer(\"queue_ptr\", torch.zeros(1, dtype=torch.long))\n",
        "\n",
        "    @torch.no_grad()\n",
        "    def _momentum_update_key_encoder(self):\n",
        "        \"\"\"\n",
        "        Momentum update of the key encoder\n",
        "        \"\"\"\n",
        "        for param_q, param_k in zip(\n",
        "            self.encoder_q.parameters(), self.encoder_k.parameters()\n",
        "        ):\n",
        "            param_k.data = param_k.data * self.m + param_q.data * (1.0 - self.m)\n",
        "\n",
        "    @torch.no_grad()\n",
        "    def _dequeue_and_enqueue(self, keys):\n",
        "        self.queue[:, :-keys.shape[0]] = self.queue[:, keys.shape[0]:]\n",
        "        self.queue[:, -keys.shape[0]:] = keys.T\n",
        "\n",
        "    def forward(self, im_q, im_k):\n",
        "        \"\"\"\n",
        "        Input:\n",
        "            im_q: a batch of query images\n",
        "            im_k: a batch of key images\n",
        "        Output:\n",
        "            logits, targets\n",
        "        \"\"\"\n",
        "\n",
        "        # Compute query features\n",
        "        q = self.encoder_q(im_q)  # queries: NxC\n",
        "        q = nn.functional.normalize(q, dim=1)\n",
        "\n",
        "        # Compute key features\n",
        "        with torch.no_grad():  # No gradient to keys\n",
        "            self._momentum_update_key_encoder()  # Update the key encoder\n",
        "            k = self.encoder_k(im_k)  # Keys: NxC\n",
        "            k = nn.functional.normalize(k, dim=1)\n",
        "\n",
        "        # Compute logits\n",
        "        l_pos = torch.einsum('nc,nc->n', [q, k]).unsqueeze(-1)  # Positive logits: Nx1\n",
        "        l_neg = torch.einsum('nc,ck->nk', [q, self.queue.clone().detach()])  # Negative logits: NxK\n",
        "\n",
        "        logits = torch.cat([l_pos, l_neg], dim=1)  # Logits: Nx(1+K)\n",
        "        logits /= self.T  # Apply temperature\n",
        "\n",
        "        labels = torch.zeros(logits.shape[0], dtype=torch.long).cuda()\n",
        "\n",
        "        # Dequeue and enqueue\n",
        "        self._dequeue_and_enqueue(k)\n",
        "\n",
        "        return logits, labels"
      ],
      "metadata": {
        "id": "KHSH3WppVz3Q"
      },
      "execution_count": null,
      "outputs": []
    },
    {
      "cell_type": "code",
      "source": [
        "def base_encoder(pretrained=False, dim=128):\n",
        "    model = models.resnet50(pretrained=pretrained)\n",
        "\n",
        "    # Adjust the first convolutional layer\n",
        "    model.conv1 = nn.Conv2d(1, 64, kernel_size=7, stride=2, padding=3, bias=False)\n",
        "\n",
        "    # Adjust the fully connected layer to match the size in the checkpoint\n",
        "    model.fc = nn.Sequential(\n",
        "        nn.Linear(model.fc.in_features, dim),\n",
        "        nn.ReLU(),\n",
        "        nn.Linear(dim, dim)\n",
        "    )\n",
        "\n",
        "    return model\n",
        "\n",
        "moco = MoCo(base_encoder=base_encoder, dim=128, mlp=True)\n",
        "\n",
        "checkpoint = torch.load('/content/drive/MyDrive/moco_v2_800ep_pretrain.pth.tar')\n",
        "\n",
        "# Adjust the 'conv1' weights in the state_dict\n",
        "conv1_weight = checkpoint['state_dict']['module.encoder_q.conv1.weight']\n",
        "new_conv1_weight = conv1_weight.mean(dim=1, keepdim=True)\n",
        "\n",
        "moco.encoder_q.conv1.weight.data = new_conv1_weight\n",
        "\n",
        "new_state_dict = {k.replace('module.', ''): v for k, v in checkpoint['state_dict'].items()}\n",
        "\n",
        "del new_state_dict['encoder_q.conv1.weight']\n",
        "\n",
        "moco.load_state_dict(new_state_dict, strict=False)\n"
      ],
      "metadata": {
        "colab": {
          "base_uri": "https://localhost:8080/"
        },
        "id": "BJt13ItgXHnJ",
        "outputId": "2df6c469-7304-465c-dcdd-ea1256b3bcee"
      },
      "execution_count": null,
      "outputs": [
        {
          "output_type": "stream",
          "name": "stderr",
          "text": [
            "/usr/local/lib/python3.10/dist-packages/torchvision/models/_utils.py:208: UserWarning: The parameter 'pretrained' is deprecated since 0.13 and may be removed in the future, please use 'weights' instead.\n",
            "  warnings.warn(\n",
            "/usr/local/lib/python3.10/dist-packages/torchvision/models/_utils.py:223: UserWarning: Arguments other than a weight enum or `None` for 'weights' are deprecated since 0.13 and may be removed in the future. The current behavior is equivalent to passing `weights=None`.\n",
            "  warnings.warn(msg)\n"
          ]
        },
        {
          "output_type": "execute_result",
          "data": {
            "text/plain": [
              "_IncompatibleKeys(missing_keys=['queue', 'queue_ptr', 'encoder_q.conv1.weight', 'encoder_k.conv1.weight', 'encoder_k.bn1.weight', 'encoder_k.bn1.bias', 'encoder_k.bn1.running_mean', 'encoder_k.bn1.running_var', 'encoder_k.layer1.0.conv1.weight', 'encoder_k.layer1.0.bn1.weight', 'encoder_k.layer1.0.bn1.bias', 'encoder_k.layer1.0.bn1.running_mean', 'encoder_k.layer1.0.bn1.running_var', 'encoder_k.layer1.0.conv2.weight', 'encoder_k.layer1.0.bn2.weight', 'encoder_k.layer1.0.bn2.bias', 'encoder_k.layer1.0.bn2.running_mean', 'encoder_k.layer1.0.bn2.running_var', 'encoder_k.layer1.0.conv3.weight', 'encoder_k.layer1.0.bn3.weight', 'encoder_k.layer1.0.bn3.bias', 'encoder_k.layer1.0.bn3.running_mean', 'encoder_k.layer1.0.bn3.running_var', 'encoder_k.layer1.0.downsample.0.weight', 'encoder_k.layer1.0.downsample.1.weight', 'encoder_k.layer1.0.downsample.1.bias', 'encoder_k.layer1.0.downsample.1.running_mean', 'encoder_k.layer1.0.downsample.1.running_var', 'encoder_k.layer1.1.conv1.weight', 'encoder_k.layer1.1.bn1.weight', 'encoder_k.layer1.1.bn1.bias', 'encoder_k.layer1.1.bn1.running_mean', 'encoder_k.layer1.1.bn1.running_var', 'encoder_k.layer1.1.conv2.weight', 'encoder_k.layer1.1.bn2.weight', 'encoder_k.layer1.1.bn2.bias', 'encoder_k.layer1.1.bn2.running_mean', 'encoder_k.layer1.1.bn2.running_var', 'encoder_k.layer1.1.conv3.weight', 'encoder_k.layer1.1.bn3.weight', 'encoder_k.layer1.1.bn3.bias', 'encoder_k.layer1.1.bn3.running_mean', 'encoder_k.layer1.1.bn3.running_var', 'encoder_k.layer1.2.conv1.weight', 'encoder_k.layer1.2.bn1.weight', 'encoder_k.layer1.2.bn1.bias', 'encoder_k.layer1.2.bn1.running_mean', 'encoder_k.layer1.2.bn1.running_var', 'encoder_k.layer1.2.conv2.weight', 'encoder_k.layer1.2.bn2.weight', 'encoder_k.layer1.2.bn2.bias', 'encoder_k.layer1.2.bn2.running_mean', 'encoder_k.layer1.2.bn2.running_var', 'encoder_k.layer1.2.conv3.weight', 'encoder_k.layer1.2.bn3.weight', 'encoder_k.layer1.2.bn3.bias', 'encoder_k.layer1.2.bn3.running_mean', 'encoder_k.layer1.2.bn3.running_var', 'encoder_k.layer2.0.conv1.weight', 'encoder_k.layer2.0.bn1.weight', 'encoder_k.layer2.0.bn1.bias', 'encoder_k.layer2.0.bn1.running_mean', 'encoder_k.layer2.0.bn1.running_var', 'encoder_k.layer2.0.conv2.weight', 'encoder_k.layer2.0.bn2.weight', 'encoder_k.layer2.0.bn2.bias', 'encoder_k.layer2.0.bn2.running_mean', 'encoder_k.layer2.0.bn2.running_var', 'encoder_k.layer2.0.conv3.weight', 'encoder_k.layer2.0.bn3.weight', 'encoder_k.layer2.0.bn3.bias', 'encoder_k.layer2.0.bn3.running_mean', 'encoder_k.layer2.0.bn3.running_var', 'encoder_k.layer2.0.downsample.0.weight', 'encoder_k.layer2.0.downsample.1.weight', 'encoder_k.layer2.0.downsample.1.bias', 'encoder_k.layer2.0.downsample.1.running_mean', 'encoder_k.layer2.0.downsample.1.running_var', 'encoder_k.layer2.1.conv1.weight', 'encoder_k.layer2.1.bn1.weight', 'encoder_k.layer2.1.bn1.bias', 'encoder_k.layer2.1.bn1.running_mean', 'encoder_k.layer2.1.bn1.running_var', 'encoder_k.layer2.1.conv2.weight', 'encoder_k.layer2.1.bn2.weight', 'encoder_k.layer2.1.bn2.bias', 'encoder_k.layer2.1.bn2.running_mean', 'encoder_k.layer2.1.bn2.running_var', 'encoder_k.layer2.1.conv3.weight', 'encoder_k.layer2.1.bn3.weight', 'encoder_k.layer2.1.bn3.bias', 'encoder_k.layer2.1.bn3.running_mean', 'encoder_k.layer2.1.bn3.running_var', 'encoder_k.layer2.2.conv1.weight', 'encoder_k.layer2.2.bn1.weight', 'encoder_k.layer2.2.bn1.bias', 'encoder_k.layer2.2.bn1.running_mean', 'encoder_k.layer2.2.bn1.running_var', 'encoder_k.layer2.2.conv2.weight', 'encoder_k.layer2.2.bn2.weight', 'encoder_k.layer2.2.bn2.bias', 'encoder_k.layer2.2.bn2.running_mean', 'encoder_k.layer2.2.bn2.running_var', 'encoder_k.layer2.2.conv3.weight', 'encoder_k.layer2.2.bn3.weight', 'encoder_k.layer2.2.bn3.bias', 'encoder_k.layer2.2.bn3.running_mean', 'encoder_k.layer2.2.bn3.running_var', 'encoder_k.layer2.3.conv1.weight', 'encoder_k.layer2.3.bn1.weight', 'encoder_k.layer2.3.bn1.bias', 'encoder_k.layer2.3.bn1.running_mean', 'encoder_k.layer2.3.bn1.running_var', 'encoder_k.layer2.3.conv2.weight', 'encoder_k.layer2.3.bn2.weight', 'encoder_k.layer2.3.bn2.bias', 'encoder_k.layer2.3.bn2.running_mean', 'encoder_k.layer2.3.bn2.running_var', 'encoder_k.layer2.3.conv3.weight', 'encoder_k.layer2.3.bn3.weight', 'encoder_k.layer2.3.bn3.bias', 'encoder_k.layer2.3.bn3.running_mean', 'encoder_k.layer2.3.bn3.running_var', 'encoder_k.layer3.0.conv1.weight', 'encoder_k.layer3.0.bn1.weight', 'encoder_k.layer3.0.bn1.bias', 'encoder_k.layer3.0.bn1.running_mean', 'encoder_k.layer3.0.bn1.running_var', 'encoder_k.layer3.0.conv2.weight', 'encoder_k.layer3.0.bn2.weight', 'encoder_k.layer3.0.bn2.bias', 'encoder_k.layer3.0.bn2.running_mean', 'encoder_k.layer3.0.bn2.running_var', 'encoder_k.layer3.0.conv3.weight', 'encoder_k.layer3.0.bn3.weight', 'encoder_k.layer3.0.bn3.bias', 'encoder_k.layer3.0.bn3.running_mean', 'encoder_k.layer3.0.bn3.running_var', 'encoder_k.layer3.0.downsample.0.weight', 'encoder_k.layer3.0.downsample.1.weight', 'encoder_k.layer3.0.downsample.1.bias', 'encoder_k.layer3.0.downsample.1.running_mean', 'encoder_k.layer3.0.downsample.1.running_var', 'encoder_k.layer3.1.conv1.weight', 'encoder_k.layer3.1.bn1.weight', 'encoder_k.layer3.1.bn1.bias', 'encoder_k.layer3.1.bn1.running_mean', 'encoder_k.layer3.1.bn1.running_var', 'encoder_k.layer3.1.conv2.weight', 'encoder_k.layer3.1.bn2.weight', 'encoder_k.layer3.1.bn2.bias', 'encoder_k.layer3.1.bn2.running_mean', 'encoder_k.layer3.1.bn2.running_var', 'encoder_k.layer3.1.conv3.weight', 'encoder_k.layer3.1.bn3.weight', 'encoder_k.layer3.1.bn3.bias', 'encoder_k.layer3.1.bn3.running_mean', 'encoder_k.layer3.1.bn3.running_var', 'encoder_k.layer3.2.conv1.weight', 'encoder_k.layer3.2.bn1.weight', 'encoder_k.layer3.2.bn1.bias', 'encoder_k.layer3.2.bn1.running_mean', 'encoder_k.layer3.2.bn1.running_var', 'encoder_k.layer3.2.conv2.weight', 'encoder_k.layer3.2.bn2.weight', 'encoder_k.layer3.2.bn2.bias', 'encoder_k.layer3.2.bn2.running_mean', 'encoder_k.layer3.2.bn2.running_var', 'encoder_k.layer3.2.conv3.weight', 'encoder_k.layer3.2.bn3.weight', 'encoder_k.layer3.2.bn3.bias', 'encoder_k.layer3.2.bn3.running_mean', 'encoder_k.layer3.2.bn3.running_var', 'encoder_k.layer3.3.conv1.weight', 'encoder_k.layer3.3.bn1.weight', 'encoder_k.layer3.3.bn1.bias', 'encoder_k.layer3.3.bn1.running_mean', 'encoder_k.layer3.3.bn1.running_var', 'encoder_k.layer3.3.conv2.weight', 'encoder_k.layer3.3.bn2.weight', 'encoder_k.layer3.3.bn2.bias', 'encoder_k.layer3.3.bn2.running_mean', 'encoder_k.layer3.3.bn2.running_var', 'encoder_k.layer3.3.conv3.weight', 'encoder_k.layer3.3.bn3.weight', 'encoder_k.layer3.3.bn3.bias', 'encoder_k.layer3.3.bn3.running_mean', 'encoder_k.layer3.3.bn3.running_var', 'encoder_k.layer3.4.conv1.weight', 'encoder_k.layer3.4.bn1.weight', 'encoder_k.layer3.4.bn1.bias', 'encoder_k.layer3.4.bn1.running_mean', 'encoder_k.layer3.4.bn1.running_var', 'encoder_k.layer3.4.conv2.weight', 'encoder_k.layer3.4.bn2.weight', 'encoder_k.layer3.4.bn2.bias', 'encoder_k.layer3.4.bn2.running_mean', 'encoder_k.layer3.4.bn2.running_var', 'encoder_k.layer3.4.conv3.weight', 'encoder_k.layer3.4.bn3.weight', 'encoder_k.layer3.4.bn3.bias', 'encoder_k.layer3.4.bn3.running_mean', 'encoder_k.layer3.4.bn3.running_var', 'encoder_k.layer3.5.conv1.weight', 'encoder_k.layer3.5.bn1.weight', 'encoder_k.layer3.5.bn1.bias', 'encoder_k.layer3.5.bn1.running_mean', 'encoder_k.layer3.5.bn1.running_var', 'encoder_k.layer3.5.conv2.weight', 'encoder_k.layer3.5.bn2.weight', 'encoder_k.layer3.5.bn2.bias', 'encoder_k.layer3.5.bn2.running_mean', 'encoder_k.layer3.5.bn2.running_var', 'encoder_k.layer3.5.conv3.weight', 'encoder_k.layer3.5.bn3.weight', 'encoder_k.layer3.5.bn3.bias', 'encoder_k.layer3.5.bn3.running_mean', 'encoder_k.layer3.5.bn3.running_var', 'encoder_k.layer4.0.conv1.weight', 'encoder_k.layer4.0.bn1.weight', 'encoder_k.layer4.0.bn1.bias', 'encoder_k.layer4.0.bn1.running_mean', 'encoder_k.layer4.0.bn1.running_var', 'encoder_k.layer4.0.conv2.weight', 'encoder_k.layer4.0.bn2.weight', 'encoder_k.layer4.0.bn2.bias', 'encoder_k.layer4.0.bn2.running_mean', 'encoder_k.layer4.0.bn2.running_var', 'encoder_k.layer4.0.conv3.weight', 'encoder_k.layer4.0.bn3.weight', 'encoder_k.layer4.0.bn3.bias', 'encoder_k.layer4.0.bn3.running_mean', 'encoder_k.layer4.0.bn3.running_var', 'encoder_k.layer4.0.downsample.0.weight', 'encoder_k.layer4.0.downsample.1.weight', 'encoder_k.layer4.0.downsample.1.bias', 'encoder_k.layer4.0.downsample.1.running_mean', 'encoder_k.layer4.0.downsample.1.running_var', 'encoder_k.layer4.1.conv1.weight', 'encoder_k.layer4.1.bn1.weight', 'encoder_k.layer4.1.bn1.bias', 'encoder_k.layer4.1.bn1.running_mean', 'encoder_k.layer4.1.bn1.running_var', 'encoder_k.layer4.1.conv2.weight', 'encoder_k.layer4.1.bn2.weight', 'encoder_k.layer4.1.bn2.bias', 'encoder_k.layer4.1.bn2.running_mean', 'encoder_k.layer4.1.bn2.running_var', 'encoder_k.layer4.1.conv3.weight', 'encoder_k.layer4.1.bn3.weight', 'encoder_k.layer4.1.bn3.bias', 'encoder_k.layer4.1.bn3.running_mean', 'encoder_k.layer4.1.bn3.running_var', 'encoder_k.layer4.2.conv1.weight', 'encoder_k.layer4.2.bn1.weight', 'encoder_k.layer4.2.bn1.bias', 'encoder_k.layer4.2.bn1.running_mean', 'encoder_k.layer4.2.bn1.running_var', 'encoder_k.layer4.2.conv2.weight', 'encoder_k.layer4.2.bn2.weight', 'encoder_k.layer4.2.bn2.bias', 'encoder_k.layer4.2.bn2.running_mean', 'encoder_k.layer4.2.bn2.running_var', 'encoder_k.layer4.2.conv3.weight', 'encoder_k.layer4.2.bn3.weight', 'encoder_k.layer4.2.bn3.bias', 'encoder_k.layer4.2.bn3.running_mean', 'encoder_k.layer4.2.bn3.running_var', 'encoder_k.fc.0.weight', 'encoder_k.fc.0.bias', 'encoder_k.fc.2.weight', 'encoder_k.fc.2.bias'], unexpected_keys=[])"
            ]
          },
          "metadata": {},
          "execution_count": 10
        }
      ]
    },
    {
      "cell_type": "markdown",
      "source": [
        "# Fine-tune model on BraTS"
      ],
      "metadata": {
        "id": "2dGQKxcHKGvG"
      }
    },
    {
      "cell_type": "code",
      "source": [
        "dataset = BraTSDataset('/content/drive/MyDrive/archive/BraTS2020_TrainingData/MICCAI_BraTS2020_TrainingData', transform=simclr_transform)\n",
        "\n",
        "dataloader = DataLoader(dataset, batch_size=4, shuffle=True)"
      ],
      "metadata": {
        "colab": {
          "base_uri": "https://localhost:8080/",
          "height": 53
        },
        "id": "SNZrwpNITTXV",
        "outputId": "07867886-43b0-4b4f-ab7c-068b765f68c9"
      },
      "execution_count": null,
      "outputs": [
        {
          "output_type": "execute_result",
          "data": {
            "text/plain": [
              "'\\ntrain_size = int(0.8 * len(dataset))\\nval_size = len(dataset) - train_size\\ntrain_dataset, val_dataset = random_split(dataset, [train_size, val_size])\\n\\ntrain_loader = DataLoader(train_dataset, batch_size=64, shuffle=True)\\nval_loader = DataLoader(val_dataset, batch_size=64, shuffle=False)\\n'"
            ],
            "application/vnd.google.colaboratory.intrinsic+json": {
              "type": "string"
            }
          },
          "metadata": {},
          "execution_count": 11
        }
      ]
    },
    {
      "cell_type": "code",
      "source": [
        "device = torch.device(\"cuda\" if torch.cuda.is_available() else \"cpu\")\n",
        "model = moco.to(device)\n",
        "\n",
        "optimizer = optim.SGD(model.parameters(), lr=0.03, momentum=0.9, weight_decay=1e-4)\n",
        "\n",
        "num_epochs = 100\n",
        "\n",
        "loss_values = []\n",
        "\n",
        "model.train()\n",
        "\n",
        "for epoch in tqdm(range(num_epochs)):\n",
        "    for i, (image, im_q, im_k, mask) in enumerate(dataloader):\n",
        "\n",
        "        im_q = im_q.to(device)\n",
        "        im_k = im_k.to(device)\n",
        "\n",
        "        output, target = model(im_q=im_q, im_k=im_k)\n",
        "\n",
        "        loss = F.cross_entropy(output, target)\n",
        "\n",
        "        optimizer.zero_grad()\n",
        "        loss.backward()\n",
        "        optimizer.step()\n",
        "\n",
        "        if i % 10 == 0:\n",
        "          #print(f'Epoch: [{epoch}][{i}/{len(dataloader)}]\\t'f'Loss {loss.item():.4f}\\t')\n",
        "          loss_values.append(loss.item())\n",
        "\n",
        "torch.save(moco.state_dict(), '/content/drive/MyDrive/archive/moco_state_dict_3.pth')\n",
        "plt.plot(loss_values)\n",
        "plt.title('Training Loss')\n",
        "plt.xlabel('Batch Number')\n",
        "plt.ylabel('Loss')\n",
        "plt.show()"
      ],
      "metadata": {
        "colab": {
          "base_uri": "https://localhost:8080/",
          "height": 417
        },
        "id": "kAgjzjb7mWku",
        "outputId": "cf9758b5-a130-4cd8-c64f-bea628224e5b"
      },
      "execution_count": null,
      "outputs": [
        {
          "output_type": "stream",
          "name": "stderr",
          "text": [
            "  0%|          | 0/100 [00:23<?, ?it/s]\n"
          ]
        },
        {
          "output_type": "error",
          "ename": "KeyboardInterrupt",
          "evalue": "ignored",
          "traceback": [
            "\u001b[0;31m---------------------------------------------------------------------------\u001b[0m",
            "\u001b[0;31mKeyboardInterrupt\u001b[0m                         Traceback (most recent call last)",
            "\u001b[0;32m<ipython-input-14-003b9f415b75>\u001b[0m in \u001b[0;36m<cell line: 12>\u001b[0;34m()\u001b[0m\n\u001b[1;32m     11\u001b[0m \u001b[0;34m\u001b[0m\u001b[0m\n\u001b[1;32m     12\u001b[0m \u001b[0;32mfor\u001b[0m \u001b[0mepoch\u001b[0m \u001b[0;32min\u001b[0m \u001b[0mtqdm\u001b[0m\u001b[0;34m(\u001b[0m\u001b[0mrange\u001b[0m\u001b[0;34m(\u001b[0m\u001b[0mnum_epochs\u001b[0m\u001b[0;34m)\u001b[0m\u001b[0;34m)\u001b[0m\u001b[0;34m:\u001b[0m\u001b[0;34m\u001b[0m\u001b[0;34m\u001b[0m\u001b[0m\n\u001b[0;32m---> 13\u001b[0;31m     \u001b[0;32mfor\u001b[0m \u001b[0mi\u001b[0m\u001b[0;34m,\u001b[0m \u001b[0;34m(\u001b[0m\u001b[0mimage\u001b[0m\u001b[0;34m,\u001b[0m \u001b[0mim_q\u001b[0m\u001b[0;34m,\u001b[0m \u001b[0mim_k\u001b[0m\u001b[0;34m,\u001b[0m \u001b[0mmask\u001b[0m\u001b[0;34m)\u001b[0m \u001b[0;32min\u001b[0m \u001b[0menumerate\u001b[0m\u001b[0;34m(\u001b[0m\u001b[0mdataloader\u001b[0m\u001b[0;34m)\u001b[0m\u001b[0;34m:\u001b[0m\u001b[0;34m\u001b[0m\u001b[0;34m\u001b[0m\u001b[0m\n\u001b[0m\u001b[1;32m     14\u001b[0m \u001b[0;34m\u001b[0m\u001b[0m\n\u001b[1;32m     15\u001b[0m         \u001b[0mim_q\u001b[0m \u001b[0;34m=\u001b[0m \u001b[0mim_q\u001b[0m\u001b[0;34m.\u001b[0m\u001b[0mto\u001b[0m\u001b[0;34m(\u001b[0m\u001b[0mdevice\u001b[0m\u001b[0;34m)\u001b[0m\u001b[0;34m\u001b[0m\u001b[0;34m\u001b[0m\u001b[0m\n",
            "\u001b[0;32m/usr/local/lib/python3.10/dist-packages/torch/utils/data/dataloader.py\u001b[0m in \u001b[0;36m__next__\u001b[0;34m(self)\u001b[0m\n\u001b[1;32m    628\u001b[0m                 \u001b[0;31m# TODO(https://github.com/pytorch/pytorch/issues/76750)\u001b[0m\u001b[0;34m\u001b[0m\u001b[0;34m\u001b[0m\u001b[0m\n\u001b[1;32m    629\u001b[0m                 \u001b[0mself\u001b[0m\u001b[0;34m.\u001b[0m\u001b[0m_reset\u001b[0m\u001b[0;34m(\u001b[0m\u001b[0;34m)\u001b[0m  \u001b[0;31m# type: ignore[call-arg]\u001b[0m\u001b[0;34m\u001b[0m\u001b[0;34m\u001b[0m\u001b[0m\n\u001b[0;32m--> 630\u001b[0;31m             \u001b[0mdata\u001b[0m \u001b[0;34m=\u001b[0m \u001b[0mself\u001b[0m\u001b[0;34m.\u001b[0m\u001b[0m_next_data\u001b[0m\u001b[0;34m(\u001b[0m\u001b[0;34m)\u001b[0m\u001b[0;34m\u001b[0m\u001b[0;34m\u001b[0m\u001b[0m\n\u001b[0m\u001b[1;32m    631\u001b[0m             \u001b[0mself\u001b[0m\u001b[0;34m.\u001b[0m\u001b[0m_num_yielded\u001b[0m \u001b[0;34m+=\u001b[0m \u001b[0;36m1\u001b[0m\u001b[0;34m\u001b[0m\u001b[0;34m\u001b[0m\u001b[0m\n\u001b[1;32m    632\u001b[0m             \u001b[0;32mif\u001b[0m \u001b[0mself\u001b[0m\u001b[0;34m.\u001b[0m\u001b[0m_dataset_kind\u001b[0m \u001b[0;34m==\u001b[0m \u001b[0m_DatasetKind\u001b[0m\u001b[0;34m.\u001b[0m\u001b[0mIterable\u001b[0m \u001b[0;32mand\u001b[0m\u001b[0;31m \u001b[0m\u001b[0;31m\\\u001b[0m\u001b[0;34m\u001b[0m\u001b[0;34m\u001b[0m\u001b[0m\n",
            "\u001b[0;32m/usr/local/lib/python3.10/dist-packages/torch/utils/data/dataloader.py\u001b[0m in \u001b[0;36m_next_data\u001b[0;34m(self)\u001b[0m\n\u001b[1;32m    672\u001b[0m     \u001b[0;32mdef\u001b[0m \u001b[0m_next_data\u001b[0m\u001b[0;34m(\u001b[0m\u001b[0mself\u001b[0m\u001b[0;34m)\u001b[0m\u001b[0;34m:\u001b[0m\u001b[0;34m\u001b[0m\u001b[0;34m\u001b[0m\u001b[0m\n\u001b[1;32m    673\u001b[0m         \u001b[0mindex\u001b[0m \u001b[0;34m=\u001b[0m \u001b[0mself\u001b[0m\u001b[0;34m.\u001b[0m\u001b[0m_next_index\u001b[0m\u001b[0;34m(\u001b[0m\u001b[0;34m)\u001b[0m  \u001b[0;31m# may raise StopIteration\u001b[0m\u001b[0;34m\u001b[0m\u001b[0;34m\u001b[0m\u001b[0m\n\u001b[0;32m--> 674\u001b[0;31m         \u001b[0mdata\u001b[0m \u001b[0;34m=\u001b[0m \u001b[0mself\u001b[0m\u001b[0;34m.\u001b[0m\u001b[0m_dataset_fetcher\u001b[0m\u001b[0;34m.\u001b[0m\u001b[0mfetch\u001b[0m\u001b[0;34m(\u001b[0m\u001b[0mindex\u001b[0m\u001b[0;34m)\u001b[0m  \u001b[0;31m# may raise StopIteration\u001b[0m\u001b[0;34m\u001b[0m\u001b[0;34m\u001b[0m\u001b[0m\n\u001b[0m\u001b[1;32m    675\u001b[0m         \u001b[0;32mif\u001b[0m \u001b[0mself\u001b[0m\u001b[0;34m.\u001b[0m\u001b[0m_pin_memory\u001b[0m\u001b[0;34m:\u001b[0m\u001b[0;34m\u001b[0m\u001b[0;34m\u001b[0m\u001b[0m\n\u001b[1;32m    676\u001b[0m             \u001b[0mdata\u001b[0m \u001b[0;34m=\u001b[0m \u001b[0m_utils\u001b[0m\u001b[0;34m.\u001b[0m\u001b[0mpin_memory\u001b[0m\u001b[0;34m.\u001b[0m\u001b[0mpin_memory\u001b[0m\u001b[0;34m(\u001b[0m\u001b[0mdata\u001b[0m\u001b[0;34m,\u001b[0m \u001b[0mself\u001b[0m\u001b[0;34m.\u001b[0m\u001b[0m_pin_memory_device\u001b[0m\u001b[0;34m)\u001b[0m\u001b[0;34m\u001b[0m\u001b[0;34m\u001b[0m\u001b[0m\n",
            "\u001b[0;32m/usr/local/lib/python3.10/dist-packages/torch/utils/data/_utils/fetch.py\u001b[0m in \u001b[0;36mfetch\u001b[0;34m(self, possibly_batched_index)\u001b[0m\n\u001b[1;32m     49\u001b[0m                 \u001b[0mdata\u001b[0m \u001b[0;34m=\u001b[0m \u001b[0mself\u001b[0m\u001b[0;34m.\u001b[0m\u001b[0mdataset\u001b[0m\u001b[0;34m.\u001b[0m\u001b[0m__getitems__\u001b[0m\u001b[0;34m(\u001b[0m\u001b[0mpossibly_batched_index\u001b[0m\u001b[0;34m)\u001b[0m\u001b[0;34m\u001b[0m\u001b[0;34m\u001b[0m\u001b[0m\n\u001b[1;32m     50\u001b[0m             \u001b[0;32melse\u001b[0m\u001b[0;34m:\u001b[0m\u001b[0;34m\u001b[0m\u001b[0;34m\u001b[0m\u001b[0m\n\u001b[0;32m---> 51\u001b[0;31m                 \u001b[0mdata\u001b[0m \u001b[0;34m=\u001b[0m \u001b[0;34m[\u001b[0m\u001b[0mself\u001b[0m\u001b[0;34m.\u001b[0m\u001b[0mdataset\u001b[0m\u001b[0;34m[\u001b[0m\u001b[0midx\u001b[0m\u001b[0;34m]\u001b[0m \u001b[0;32mfor\u001b[0m \u001b[0midx\u001b[0m \u001b[0;32min\u001b[0m \u001b[0mpossibly_batched_index\u001b[0m\u001b[0;34m]\u001b[0m\u001b[0;34m\u001b[0m\u001b[0;34m\u001b[0m\u001b[0m\n\u001b[0m\u001b[1;32m     52\u001b[0m         \u001b[0;32melse\u001b[0m\u001b[0;34m:\u001b[0m\u001b[0;34m\u001b[0m\u001b[0;34m\u001b[0m\u001b[0m\n\u001b[1;32m     53\u001b[0m             \u001b[0mdata\u001b[0m \u001b[0;34m=\u001b[0m \u001b[0mself\u001b[0m\u001b[0;34m.\u001b[0m\u001b[0mdataset\u001b[0m\u001b[0;34m[\u001b[0m\u001b[0mpossibly_batched_index\u001b[0m\u001b[0;34m]\u001b[0m\u001b[0;34m\u001b[0m\u001b[0;34m\u001b[0m\u001b[0m\n",
            "\u001b[0;32m/usr/local/lib/python3.10/dist-packages/torch/utils/data/_utils/fetch.py\u001b[0m in \u001b[0;36m<listcomp>\u001b[0;34m(.0)\u001b[0m\n\u001b[1;32m     49\u001b[0m                 \u001b[0mdata\u001b[0m \u001b[0;34m=\u001b[0m \u001b[0mself\u001b[0m\u001b[0;34m.\u001b[0m\u001b[0mdataset\u001b[0m\u001b[0;34m.\u001b[0m\u001b[0m__getitems__\u001b[0m\u001b[0;34m(\u001b[0m\u001b[0mpossibly_batched_index\u001b[0m\u001b[0;34m)\u001b[0m\u001b[0;34m\u001b[0m\u001b[0;34m\u001b[0m\u001b[0m\n\u001b[1;32m     50\u001b[0m             \u001b[0;32melse\u001b[0m\u001b[0;34m:\u001b[0m\u001b[0;34m\u001b[0m\u001b[0;34m\u001b[0m\u001b[0m\n\u001b[0;32m---> 51\u001b[0;31m                 \u001b[0mdata\u001b[0m \u001b[0;34m=\u001b[0m \u001b[0;34m[\u001b[0m\u001b[0mself\u001b[0m\u001b[0;34m.\u001b[0m\u001b[0mdataset\u001b[0m\u001b[0;34m[\u001b[0m\u001b[0midx\u001b[0m\u001b[0;34m]\u001b[0m \u001b[0;32mfor\u001b[0m \u001b[0midx\u001b[0m \u001b[0;32min\u001b[0m \u001b[0mpossibly_batched_index\u001b[0m\u001b[0;34m]\u001b[0m\u001b[0;34m\u001b[0m\u001b[0;34m\u001b[0m\u001b[0m\n\u001b[0m\u001b[1;32m     52\u001b[0m         \u001b[0;32melse\u001b[0m\u001b[0;34m:\u001b[0m\u001b[0;34m\u001b[0m\u001b[0;34m\u001b[0m\u001b[0m\n\u001b[1;32m     53\u001b[0m             \u001b[0mdata\u001b[0m \u001b[0;34m=\u001b[0m \u001b[0mself\u001b[0m\u001b[0;34m.\u001b[0m\u001b[0mdataset\u001b[0m\u001b[0;34m[\u001b[0m\u001b[0mpossibly_batched_index\u001b[0m\u001b[0;34m]\u001b[0m\u001b[0;34m\u001b[0m\u001b[0;34m\u001b[0m\u001b[0m\n",
            "\u001b[0;32m<ipython-input-5-7b44e2cdb4ff>\u001b[0m in \u001b[0;36m__getitem__\u001b[0;34m(self, index)\u001b[0m\n\u001b[1;32m     10\u001b[0m         \u001b[0mfolder\u001b[0m \u001b[0;34m=\u001b[0m \u001b[0mos\u001b[0m\u001b[0;34m.\u001b[0m\u001b[0mlistdir\u001b[0m\u001b[0;34m(\u001b[0m\u001b[0mself\u001b[0m\u001b[0;34m.\u001b[0m\u001b[0mpath\u001b[0m\u001b[0;34m)\u001b[0m\u001b[0;34m[\u001b[0m\u001b[0mindex\u001b[0m\u001b[0;34m]\u001b[0m\u001b[0;34m\u001b[0m\u001b[0;34m\u001b[0m\u001b[0m\n\u001b[1;32m     11\u001b[0m         \u001b[0mfolder_path\u001b[0m \u001b[0;34m=\u001b[0m \u001b[0mself\u001b[0m\u001b[0;34m.\u001b[0m\u001b[0mpath\u001b[0m \u001b[0;34m+\u001b[0m \u001b[0;34m'/'\u001b[0m \u001b[0;34m+\u001b[0m \u001b[0mfolder\u001b[0m \u001b[0;34m+\u001b[0m \u001b[0;34m'/'\u001b[0m \u001b[0;34m+\u001b[0m \u001b[0mfolder\u001b[0m\u001b[0;34m\u001b[0m\u001b[0;34m\u001b[0m\u001b[0m\n\u001b[0;32m---> 12\u001b[0;31m         \u001b[0mimage\u001b[0m \u001b[0;34m=\u001b[0m \u001b[0mnib\u001b[0m\u001b[0;34m.\u001b[0m\u001b[0mload\u001b[0m\u001b[0;34m(\u001b[0m\u001b[0mfolder_path\u001b[0m \u001b[0;34m+\u001b[0m \u001b[0;34m'_flair.nii'\u001b[0m\u001b[0;34m)\u001b[0m\u001b[0;34m.\u001b[0m\u001b[0mget_fdata\u001b[0m\u001b[0;34m(\u001b[0m\u001b[0;34m)\u001b[0m\u001b[0;34m[\u001b[0m\u001b[0;36m50\u001b[0m\u001b[0;34m:\u001b[0m\u001b[0;36m210\u001b[0m\u001b[0;34m,\u001b[0m \u001b[0;36m50\u001b[0m\u001b[0;34m:\u001b[0m\u001b[0;36m210\u001b[0m\u001b[0;34m,\u001b[0m \u001b[0;36m77\u001b[0m\u001b[0;34m]\u001b[0m\u001b[0;34m\u001b[0m\u001b[0;34m\u001b[0m\u001b[0m\n\u001b[0m\u001b[1;32m     13\u001b[0m         \u001b[0mmask\u001b[0m \u001b[0;34m=\u001b[0m \u001b[0mnib\u001b[0m\u001b[0;34m.\u001b[0m\u001b[0mload\u001b[0m\u001b[0;34m(\u001b[0m\u001b[0mfolder_path\u001b[0m \u001b[0;34m+\u001b[0m \u001b[0;34m'_seg.nii'\u001b[0m\u001b[0;34m)\u001b[0m\u001b[0;34m.\u001b[0m\u001b[0mget_fdata\u001b[0m\u001b[0;34m(\u001b[0m\u001b[0;34m)\u001b[0m\u001b[0;34m[\u001b[0m\u001b[0;36m50\u001b[0m\u001b[0;34m:\u001b[0m\u001b[0;36m210\u001b[0m\u001b[0;34m,\u001b[0m \u001b[0;36m50\u001b[0m\u001b[0;34m:\u001b[0m\u001b[0;36m210\u001b[0m\u001b[0;34m,\u001b[0m \u001b[0;36m77\u001b[0m\u001b[0;34m]\u001b[0m\u001b[0;34m\u001b[0m\u001b[0;34m\u001b[0m\u001b[0m\n\u001b[1;32m     14\u001b[0m \u001b[0;34m\u001b[0m\u001b[0m\n",
            "\u001b[0;32m/usr/local/lib/python3.10/dist-packages/nibabel/dataobj_images.py\u001b[0m in \u001b[0;36mget_fdata\u001b[0;34m(self, caching, dtype)\u001b[0m\n\u001b[1;32m    353\u001b[0m         \u001b[0;31m# For array proxies, will attempt to confine data array to dtype\u001b[0m\u001b[0;34m\u001b[0m\u001b[0;34m\u001b[0m\u001b[0m\n\u001b[1;32m    354\u001b[0m         \u001b[0;31m# during scaling\u001b[0m\u001b[0;34m\u001b[0m\u001b[0;34m\u001b[0m\u001b[0m\n\u001b[0;32m--> 355\u001b[0;31m         \u001b[0mdata\u001b[0m \u001b[0;34m=\u001b[0m \u001b[0mnp\u001b[0m\u001b[0;34m.\u001b[0m\u001b[0masanyarray\u001b[0m\u001b[0;34m(\u001b[0m\u001b[0mself\u001b[0m\u001b[0;34m.\u001b[0m\u001b[0m_dataobj\u001b[0m\u001b[0;34m,\u001b[0m \u001b[0mdtype\u001b[0m\u001b[0;34m=\u001b[0m\u001b[0mdtype\u001b[0m\u001b[0;34m)\u001b[0m\u001b[0;34m\u001b[0m\u001b[0;34m\u001b[0m\u001b[0m\n\u001b[0m\u001b[1;32m    356\u001b[0m         \u001b[0;32mif\u001b[0m \u001b[0mcaching\u001b[0m \u001b[0;34m==\u001b[0m \u001b[0;34m'fill'\u001b[0m\u001b[0;34m:\u001b[0m\u001b[0;34m\u001b[0m\u001b[0;34m\u001b[0m\u001b[0m\n\u001b[1;32m    357\u001b[0m             \u001b[0mself\u001b[0m\u001b[0;34m.\u001b[0m\u001b[0m_fdata_cache\u001b[0m \u001b[0;34m=\u001b[0m \u001b[0mdata\u001b[0m\u001b[0;34m\u001b[0m\u001b[0;34m\u001b[0m\u001b[0m\n",
            "\u001b[0;32m/usr/local/lib/python3.10/dist-packages/nibabel/arrayproxy.py\u001b[0m in \u001b[0;36m__array__\u001b[0;34m(self, dtype)\u001b[0m\n\u001b[1;32m    368\u001b[0m             \u001b[0mScaled\u001b[0m \u001b[0mimage\u001b[0m \u001b[0mdata\u001b[0m \u001b[0;32mwith\u001b[0m \u001b[0mtype\u001b[0m\u001b[0;31m \u001b[0m\u001b[0;31m`\u001b[0m\u001b[0mdtype\u001b[0m\u001b[0;31m`\u001b[0m\u001b[0;34m.\u001b[0m\u001b[0;34m\u001b[0m\u001b[0;34m\u001b[0m\u001b[0m\n\u001b[1;32m    369\u001b[0m         \"\"\"\n\u001b[0;32m--> 370\u001b[0;31m         \u001b[0marr\u001b[0m \u001b[0;34m=\u001b[0m \u001b[0mself\u001b[0m\u001b[0;34m.\u001b[0m\u001b[0m_get_scaled\u001b[0m\u001b[0;34m(\u001b[0m\u001b[0mdtype\u001b[0m\u001b[0;34m=\u001b[0m\u001b[0mdtype\u001b[0m\u001b[0;34m,\u001b[0m \u001b[0mslicer\u001b[0m\u001b[0;34m=\u001b[0m\u001b[0;34m(\u001b[0m\u001b[0;34m)\u001b[0m\u001b[0;34m)\u001b[0m\u001b[0;34m\u001b[0m\u001b[0;34m\u001b[0m\u001b[0m\n\u001b[0m\u001b[1;32m    371\u001b[0m         \u001b[0;32mif\u001b[0m \u001b[0mdtype\u001b[0m \u001b[0;32mis\u001b[0m \u001b[0;32mnot\u001b[0m \u001b[0;32mNone\u001b[0m\u001b[0;34m:\u001b[0m\u001b[0;34m\u001b[0m\u001b[0;34m\u001b[0m\u001b[0m\n\u001b[1;32m    372\u001b[0m             \u001b[0marr\u001b[0m \u001b[0;34m=\u001b[0m \u001b[0marr\u001b[0m\u001b[0;34m.\u001b[0m\u001b[0mastype\u001b[0m\u001b[0;34m(\u001b[0m\u001b[0mdtype\u001b[0m\u001b[0;34m,\u001b[0m \u001b[0mcopy\u001b[0m\u001b[0;34m=\u001b[0m\u001b[0;32mFalse\u001b[0m\u001b[0;34m)\u001b[0m\u001b[0;34m\u001b[0m\u001b[0;34m\u001b[0m\u001b[0m\n",
            "\u001b[0;32m/usr/local/lib/python3.10/dist-packages/nibabel/arrayproxy.py\u001b[0m in \u001b[0;36m_get_scaled\u001b[0;34m(self, dtype, slicer)\u001b[0m\n\u001b[1;32m    337\u001b[0m         \u001b[0mscaled\u001b[0m \u001b[0;34m=\u001b[0m \u001b[0mapply_read_scaling\u001b[0m\u001b[0;34m(\u001b[0m\u001b[0mself\u001b[0m\u001b[0;34m.\u001b[0m\u001b[0m_get_unscaled\u001b[0m\u001b[0;34m(\u001b[0m\u001b[0mslicer\u001b[0m\u001b[0;34m=\u001b[0m\u001b[0mslicer\u001b[0m\u001b[0;34m)\u001b[0m\u001b[0;34m,\u001b[0m \u001b[0mscl_slope\u001b[0m\u001b[0;34m,\u001b[0m \u001b[0mscl_inter\u001b[0m\u001b[0;34m)\u001b[0m\u001b[0;34m\u001b[0m\u001b[0;34m\u001b[0m\u001b[0m\n\u001b[1;32m    338\u001b[0m         \u001b[0;32mif\u001b[0m \u001b[0mdtype\u001b[0m \u001b[0;32mis\u001b[0m \u001b[0;32mnot\u001b[0m \u001b[0;32mNone\u001b[0m\u001b[0;34m:\u001b[0m\u001b[0;34m\u001b[0m\u001b[0;34m\u001b[0m\u001b[0m\n\u001b[0;32m--> 339\u001b[0;31m             \u001b[0mscaled\u001b[0m \u001b[0;34m=\u001b[0m \u001b[0mscaled\u001b[0m\u001b[0;34m.\u001b[0m\u001b[0mastype\u001b[0m\u001b[0;34m(\u001b[0m\u001b[0mnp\u001b[0m\u001b[0;34m.\u001b[0m\u001b[0mpromote_types\u001b[0m\u001b[0;34m(\u001b[0m\u001b[0mscaled\u001b[0m\u001b[0;34m.\u001b[0m\u001b[0mdtype\u001b[0m\u001b[0;34m,\u001b[0m \u001b[0mdtype\u001b[0m\u001b[0;34m)\u001b[0m\u001b[0;34m,\u001b[0m \u001b[0mcopy\u001b[0m\u001b[0;34m=\u001b[0m\u001b[0;32mFalse\u001b[0m\u001b[0;34m)\u001b[0m\u001b[0;34m\u001b[0m\u001b[0;34m\u001b[0m\u001b[0m\n\u001b[0m\u001b[1;32m    340\u001b[0m         \u001b[0;32mreturn\u001b[0m \u001b[0mscaled\u001b[0m\u001b[0;34m\u001b[0m\u001b[0;34m\u001b[0m\u001b[0m\n\u001b[1;32m    341\u001b[0m \u001b[0;34m\u001b[0m\u001b[0m\n",
            "\u001b[0;31mKeyboardInterrupt\u001b[0m: "
          ]
        }
      ]
    },
    {
      "cell_type": "markdown",
      "source": [
        "# Downstream task (segmentation)"
      ],
      "metadata": {
        "id": "mzmdVVSKKLGP"
      }
    },
    {
      "cell_type": "code",
      "source": [],
      "metadata": {
        "id": "ql9SzHq9KNS2"
      },
      "execution_count": null,
      "outputs": []
    }
  ]
}